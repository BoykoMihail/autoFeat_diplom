{
 "cells": [
  {
   "cell_type": "code",
   "execution_count": 1,
   "metadata": {},
   "outputs": [],
   "source": [
    "import warnings\n",
    "import numpy as np\n",
    "import pandas as pd\n",
    "from sklearn.model_selection import train_test_split, GridSearchCV\n",
    "from sklearn.metrics import mean_squared_error, r2_score\n",
    "from sklearn.preprocessing import StandardScaler\n",
    "from sklearn.linear_model import Ridge\n",
    "\n",
    "from autofeat import AutoFeatRegressor\n",
    "\n",
    "%matplotlib inline\n",
    "%load_ext autoreload\n",
    "%autoreload 2"
   ]
  },
  {
   "cell_type": "code",
   "execution_count": 2,
   "metadata": {},
   "outputs": [],
   "source": [
    "dataset = pd.read_csv('/Users/mikhailboyko/Projects/StudentsWork/DIPLOM/Dataset/Training/Features_Variant_1.csv')\n",
    "datasetTest = pd.read_csv('/Users/mikhailboyko/Projects/StudentsWork/DIPLOM/Dataset/Testing/TestSet/Test_Case_1.csv')  "
   ]
  },
  {
   "cell_type": "code",
   "execution_count": null,
   "metadata": {},
   "outputs": [
    {
     "name": "stdout",
     "output_type": "stream",
     "text": [
      "[AutoFeat] The 2 step feature engineering process could generate up to 69006 features.\n",
      "[AutoFeat] With 40948 data points this new feature matrix would use about 11.30 gb of space.\n",
      "[feateng] Step 1: transformation of original features\n",
      "[feateng] Generated 115 transformed features from 53 original features - done.\n",
      "[feateng] Step 2: first combination of features\n",
      "[feateng]            7900/          14028 feature tuples combined\r"
     ]
    },
    {
     "name": "stderr",
     "output_type": "stream",
     "text": [
      "/Users/mikhailboyko/Library/Python/3.7/lib/python/site-packages/numpy/core/_methods.py:195: RuntimeWarning: overflow encountered in multiply\n",
      "  x = um.multiply(x, x, out=x)\n",
      "/Users/mikhailboyko/Library/Python/3.7/lib/python/site-packages/numpy/core/_methods.py:199: RuntimeWarning: overflow encountered in reduce\n",
      "  ret = umr_sum(x, axis, dtype, out, keepdims)\n"
     ]
    },
    {
     "name": "stdout",
     "output_type": "stream",
     "text": [
      "[feateng] Generated 13732 feature combinations from 14028 original feature tuples - done.\n",
      "[feateng] Generated altogether 14102 new features in 2 steps\n",
      "[feateng] Removing correlated features, as well as additions at the highest level\n"
     ]
    },
    {
     "name": "stderr",
     "output_type": "stream",
     "text": [
      "/Users/mikhailboyko/Library/Python/3.7/lib/python/site-packages/numpy/lib/nanfunctions.py:1546: RuntimeWarning: overflow encountered in multiply\n",
      "  sqr = np.multiply(arr, arr, out=arr)\n"
     ]
    },
    {
     "name": "stdout",
     "output_type": "stream",
     "text": [
      "[feateng] Generated a total of 10324 additional features\n",
      "[featsel] Scaling data...done.\n",
      "[featsel] Feature selection run 1/5\n",
      "[featsel] Feature selection run 2/5\n",
      "[featsel] Feature selection run 3/5\n"
     ]
    }
   ],
   "source": [
    "feateng_steps=2\n",
    "X_train = dataset.iloc[:,:-1].to_numpy()\n",
    "y_train = dataset.iloc[:,-1].to_numpy()\n",
    "\n",
    "X_test = datasetTest.iloc[:,:-1].to_numpy()\n",
    "y_test = datasetTest.iloc[:,-1].to_numpy()\n",
    "\n",
    "units = {}\n",
    "\n",
    "# X_train, X_test, y_train, y_test = train_test_split(X, y, test_size=0.2, random_state=12)\n",
    "# run autofeat\n",
    "afreg = AutoFeatRegressor(verbose=1, feateng_steps=feateng_steps, units=units)\n",
    "# fit autofeat on less data, otherwise ridge reg model with xval will overfit on new features\n",
    "X_train_tr = afreg.fit_transform(X_train, y_train)\n",
    "X_test_tr = afreg.transform(X_test)\n",
    "print(\"autofeat new features:\", len(afreg.new_feat_cols_))\n",
    "print(\"autofeat MSE on training data:\", mean_squared_error(y_train, afreg.predict(X_train_tr)))\n",
    "print(\"autofeat MSE on test data:\", mean_squared_error(y_test, afreg.predict(X_test_tr)))\n",
    "print(\"autofeat R^2 on training data:\", r2_score(y_train, afreg.predict(X_train_tr)))\n",
    "print(\"autofeat R^2 on test data:\", r2_score(y_test, afreg.predict(X_test_tr)))\n",
    "# train rreg on transformed train split incl cross-validation for parameter selection\n",
    "print(\"# Ridge Regression\")\n",
    "rreg = Ridge()\n",
    "param_grid = {\"alpha\": [0.00001, 0.0001, 0.001, 0.01, 0.1, 1., 2.5, 5., 10., 25., 50., 100., 250., 500., 1000., 2500., 5000., 10000.]}\n",
    "with warnings.catch_warnings():\n",
    "    warnings.simplefilter(\"ignore\")\n",
    "    gsmodel = GridSearchCV(rreg, param_grid, scoring='neg_mean_squared_error', cv=5)\n",
    "    gsmodel.fit(X_train_tr, y_train)\n",
    "print(\"best params:\", gsmodel.best_params_)\n",
    "print(\"best score:\", gsmodel.best_score_)\n",
    "print(\"MSE on training data:\", mean_squared_error(y_train, gsmodel.predict(X_train_tr)))\n",
    "print(\"MSE on test data:\", mean_squared_error(y_test, gsmodel.predict(X_test_tr)))\n",
    "print(\"R^2 on training data:\", r2_score(y_train, gsmodel.predict(X_train_tr)))\n",
    "print(\"R^2 on test data:\", r2_score(y_test, gsmodel.predict(X_test_tr)))"
   ]
  },
  {
   "cell_type": "code",
   "execution_count": null,
   "metadata": {},
   "outputs": [],
   "source": []
  }
 ],
 "metadata": {
  "kernelspec": {
   "display_name": "Python 3",
   "language": "python",
   "name": "python3"
  },
  "language_info": {
   "codemirror_mode": {
    "name": "ipython",
    "version": 3
   },
   "file_extension": ".py",
   "mimetype": "text/x-python",
   "name": "python",
   "nbconvert_exporter": "python",
   "pygments_lexer": "ipython3",
   "version": "3.7.6"
  }
 },
 "nbformat": 4,
 "nbformat_minor": 4
}
