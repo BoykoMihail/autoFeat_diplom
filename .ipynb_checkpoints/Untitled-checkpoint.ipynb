{
 "cells": [
  {
   "cell_type": "code",
   "execution_count": 1,
   "metadata": {},
   "outputs": [],
   "source": [
    "import numpy as np\n",
    "import pandas as pd\n",
    "import firebase_admin\n",
    "from firebase_admin import credentials, firestore"
   ]
  },
  {
   "cell_type": "code",
   "execution_count": 3,
   "metadata": {},
   "outputs": [
    {
     "name": "stdout",
     "output_type": "stream",
     "text": [
      "Symbol\n",
      "-------\n",
      "Company Name\n",
      "-------\n",
      "Security Name\n",
      "-------\n",
      "Market Category\n",
      "-------\n",
      "Test Issue\n",
      "-------\n",
      "Financial Status\n",
      "-------\n",
      "Round Lot Size\n",
      "-------\n"
     ]
    }
   ],
   "source": [
    "# dataset_nasdaq_listed_symbols = pd.read_csv('/Users/mikhailboyko/Projects/StudentsWork/myskill-alice/DATA/STOKS_DATA/nasdaq-listed-symbols.csv')\n",
    "# dataset_nasdaq_listed = pd.read_csv('/Users/mikhailboyko/Projects/StudentsWork/myskill-alice/DATA/STOKS_DATA/nasdaq-listed.csv')\n",
    "dataset_nyse_listed = pd.read_csv('/Users/mikhailboyko/Projects/StudentsWork/myskill-alice/DATA/STOKS_DATA/nyse-listed.csv')\n",
    "# dataset_other_listed = pd.read_csv('/Users/mikhailboyko/Projects/StudentsWork/myskill-alice/DATA/STOKS_DATA/other-listed.csv')\n",
    "for d in dataset_nyse_listed:\n",
    "    print(d)\n",
    "    print(\"-------\")\n",
    "# data = [dataset_nasdaq_listed_symbols, dataset_nasdaq_listed, dataset_nyse_listed, dataset_other_listed]"
   ]
  },
  {
   "cell_type": "code",
   "execution_count": 4,
   "metadata": {},
   "outputs": [],
   "source": [
    "cred = credentials.Certificate(\"/Users/mikhailboyko/Projects/StudentsWork/myskill-alice/serviceAccountKey.json\")\n",
    "firebaseApp = firebase_admin.initialize_app(cred)\n",
    "datab = firestore.client()\n",
    "data = dataset_nyse_listed"
   ]
  },
  {
   "cell_type": "code",
   "execution_count": 5,
   "metadata": {},
   "outputs": [],
   "source": [
    "try:\n",
    "    for d in data.iterrows():\n",
    "        usersref = datab.collection(u'tickers_2').document(d[1][0])\n",
    "        usersref.set({\n",
    "            u'Symbol': d[1][0],\n",
    "            u'Name': d[1][1]\n",
    "        })\n",
    "\n",
    "except Exception as e:\n",
    "    firebase_admin.delete_app(firebaseApp)\n",
    "    print(e)"
   ]
  },
  {
   "cell_type": "code",
   "execution_count": null,
   "metadata": {},
   "outputs": [],
   "source": []
  },
  {
   "cell_type": "code",
   "execution_count": null,
   "metadata": {},
   "outputs": [],
   "source": [
    "def removeVowels(string):\n",
    "    newstr = string.upper();\n",
    "    vowels = ('A', 'E', 'I', 'O', 'U','Y');\n",
    "    for x in newstr:\n",
    "        if x in vowels:\n",
    "            newstr = newstr.replace(x,\"\");\n",
    "    return newstr;"
   ]
  },
  {
   "cell_type": "code",
   "execution_count": null,
   "metadata": {},
   "outputs": [],
   "source": [
    "import difflib"
   ]
  },
  {
   "cell_type": "code",
   "execution_count": null,
   "metadata": {},
   "outputs": [],
   "source": [
    "findName = difflib.get_close_matches(\"Tesla Mo\", ['Tesla Motors, Inc.', 'TRIP', 'F','TSL'])"
   ]
  },
  {
   "cell_type": "code",
   "execution_count": null,
   "metadata": {},
   "outputs": [],
   "source": [
    "findName"
   ]
  },
  {
   "cell_type": "code",
   "execution_count": null,
   "metadata": {},
   "outputs": [],
   "source": [
    "removeVowels('trypadvyzor')"
   ]
  },
  {
   "cell_type": "code",
   "execution_count": null,
   "metadata": {},
   "outputs": [],
   "source": [
    "import requests\n",
    "url = \"https://functions.yandexcloud.net/d4ejghe240lb7psnis3f?name=Mihail\"\n",
    "requests.get(url)\n",
    "    \n"
   ]
  },
  {
   "cell_type": "code",
   "execution_count": null,
   "metadata": {},
   "outputs": [],
   "source": [
    "print(result)"
   ]
  },
  {
   "cell_type": "code",
   "execution_count": null,
   "metadata": {},
   "outputs": [],
   "source": []
  }
 ],
 "metadata": {
  "kernelspec": {
   "display_name": "Python 3",
   "language": "python",
   "name": "python3"
  },
  "language_info": {
   "codemirror_mode": {
    "name": "ipython",
    "version": 3
   },
   "file_extension": ".py",
   "mimetype": "text/x-python",
   "name": "python",
   "nbconvert_exporter": "python",
   "pygments_lexer": "ipython3",
   "version": "3.7.6"
  }
 },
 "nbformat": 4,
 "nbformat_minor": 4
}
